{
 "cells": [
  {
   "cell_type": "code",
   "execution_count": 1,
   "metadata": {},
   "outputs": [],
   "source": [
    "# If running on colab, uncomment the line below and run this cell:\n",
    "#!pip in stall devito"
   ]
  },
  {
   "cell_type": "markdown",
   "metadata": {},
   "source": [
    "# From Zero to Devito: Geophysical modeling with Devito\n",
    "\n",
    "- Devito is a domain specific language (DSL) for formulating partial differential solvers in the form of finite difference operators.\n",
    "- From a users perspective, they formulate the problem in a similar manner to how they would on pen and paper.\n",
    "- Devito then compiles this formulation into c code optimized for the target platform.\n",
    "- A main target application of Devito is producing wave-propagation kernels for use in inversion/imaging frameworks (RTM and FWI).\n",
    "\n",
    "This workshop will be divided into 3 sections:\n",
    "1. Basics of the DSL\n",
    "3. Building propagators\n",
    "4. Constructing FWI frameworks\n",
    "\n",
    "For convenience, we import all Devito modules:"
   ]
  },
  {
   "cell_type": "code",
   "execution_count": 2,
   "metadata": {},
   "outputs": [],
   "source": [
    "from devito import *"
   ]
  },
  {
   "cell_type": "markdown",
   "metadata": {},
   "source": [
    "# Part 1: The Devito DSL - From equations to code in a few lines of Python\n",
    "\n",
    "## Goals:\n",
    "\n",
    "- Introduce users to some of the core *Devito* objects including grids (`Grid`), functions (`Function`, `TimeFunction`), equations (`Eq`) and operators (`Operator`)\n",
    "- Illusrate how the DSL can be used to produce a range of finite difference (FD) stencils\n",
    "- Execute a simple operator\n",
    "\n",
    "The main objective of this tutorial is to demonstrate how Devito and its [SymPy](http://www.sympy.org/en/index.html)-powered symbolic API can be used to solve partial differential equations using the finite difference method with highly optimized stencils in a few lines of Python. We demonstrate how computational stencils can be derived directly from the equation in an automated fashion and how Devito can be used to generate and execute, at runtime, the desired numerical scheme in the form of optimized C code.\n",
    "\n",
    "\n",
    "## Defining the physical domain\n",
    "\n",
    "Before we can begin creating finite-difference (FD) stencils we will need to give Devito a few details regarding the computational domain within which we wish to solve our problem. For this purpose we create a `Grid` object that stores the physical `extent` (the size) of our domain and knows how many points we want to use in each dimension to discretise our data.\n",
    "\n",
    "<img src=\"figures/grid.png\" style=\"width: 320px;\"/>"
   ]
  },
  {
   "cell_type": "code",
   "execution_count": 3,
   "metadata": {},
   "outputs": [
    {
     "data": {
      "text/plain": [
       "Grid[extent=(1.0, 1.0), shape=(5, 6), dimensions=(x, y)]"
      ]
     },
     "execution_count": 3,
     "metadata": {},
     "output_type": "execute_result"
    }
   ],
   "source": [
    "grid = Grid(shape=(5, 6), extent=(1., 1.))\n",
    "grid"
   ]
  },
  {
   "cell_type": "markdown",
   "metadata": {},
   "source": [
    "## Functions and data\n",
    "\n",
    "To express our equation in symbolic form and discretise it using finite differences, Devito provides a set of `Function` types. A `Function` object:\n",
    "\n",
    "1. Behaves like a `sympy.Function` symbol\n",
    "2. Manages data associated with the symbol\n",
    "\n",
    "To get more information on how to create and use a `Function` object, or any type provided by Devito, we can take a look at the documentation."
   ]
  },
  {
   "cell_type": "code",
   "execution_count": 4,
   "metadata": {},
   "outputs": [
    {
     "name": "stdout",
     "output_type": "stream",
     "text": [
      "\n",
      "    Tensor symbol representing a discrete function in symbolic equations.\n",
      "\n",
      "    A Function carries multi-dimensional data and provides operations to create\n",
      "    finite-differences approximations.\n",
      "\n",
      "    A Function encapsulates space-varying data; for data that also varies in time,\n",
      "    use TimeFunction instead.\n",
      "\n",
      "    Parameters\n",
      "    ----------\n",
      "    name : str\n",
      "        Name of the symbol.\n",
      "    grid : Grid, optional\n",
      "        Carries shape, dimensions, and dtype of the Function. When grid is not\n",
      "        provided, shape and dimensions must be given. For MPI execution, a\n",
      "        Grid is compulsory.\n",
      "    space_order : int or 3-tuple of ints, optional\n",
      "        Discretisation order for space derivatives. Defaults to 1. ``space_order`` also\n",
      "        impacts the number of points available around a generic point of interest.  By\n",
      "        default, ``space_order`` points are available on both sides of a generic point of\n",
      "        interest, including those nearby the grid boundary. Sometimes, fewer points\n",
      "        suffice; in other scenarios, more points are necessary. In such cases, instead of\n",
      "        an integer, one can pass a 3-tuple ``(o, lp, rp)`` indicating the discretization\n",
      "        order (``o``) as well as the number of points on the left (``lp``) and right\n",
      "        (``rp``) sides of a generic point of interest.\n",
      "    shape : tuple of ints, optional\n",
      "        Shape of the domain region in grid points. Only necessary if ``grid`` isn't given.\n",
      "    dimensions : tuple of Dimension, optional\n",
      "        Dimensions associated with the object. Only necessary if ``grid`` isn't given.\n",
      "    dtype : data-type, optional\n",
      "        Any object that can be interpreted as a numpy data type. Defaults\n",
      "        to ``np.float32``.\n",
      "    staggered : Dimension or tuple of Dimension or Stagger, optional\n",
      "        Define how the Function is staggered.\n",
      "    initializer : callable or any object exposing the buffer interface, optional\n",
      "        Data initializer. If a callable is provided, data is allocated lazily.\n",
      "    allocator : MemoryAllocator, optional\n",
      "        Controller for memory allocation. To be used, for example, when one wants\n",
      "        to take advantage of the memory hierarchy in a NUMA architecture. Refer to\n",
      "        `default_allocator.__doc__` for more information.\n",
      "    padding : int or tuple of ints, optional\n",
      "        .. deprecated:: shouldn't be used; padding is now automatically inserted.\n",
      "\n",
      "        Allocate extra grid points to maximize data access alignment. When a tuple\n",
      "        of ints, one int per Dimension should be provided.\n",
      "\n",
      "    Examples\n",
      "    --------\n",
      "    Creation\n",
      "\n",
      "    >>> from devito import Grid, Function\n",
      "    >>> grid = Grid(shape=(4, 4))\n",
      "    >>> f = Function(name='f', grid=grid)\n",
      "    >>> f\n",
      "    f(x, y)\n",
      "    >>> g = Function(name='g', grid=grid, space_order=2)\n",
      "    >>> g\n",
      "    g(x, y)\n",
      "\n",
      "    First-order derivatives through centered finite-difference approximations\n",
      "\n",
      "    >>> f.dx\n",
      "    Derivative(f(x, y), x)\n",
      "    >>> f.dy\n",
      "    Derivative(f(x, y), y)\n",
      "    >>> g.dx\n",
      "    Derivative(g(x, y), x)\n",
      "    >>> (f + g).dx\n",
      "    Derivative(f(x, y) + g(x, y), x)\n",
      "\n",
      "    First-order derivatives through left/right finite-difference approximations\n",
      "\n",
      "    >>> f.dxl\n",
      "    Derivative(f(x, y), x)\n",
      "\n",
      "    Note that the fact that it's a left-derivative isn't captured in the representation.\n",
      "    However, upon derivative expansion, this becomes clear\n",
      "\n",
      "    >>> f.dxl.evaluate\n",
      "    f(x, y)/h_x - f(x - h_x, y)/h_x\n",
      "    >>> f.dxr\n",
      "    Derivative(f(x, y), x)\n",
      "\n",
      "    Second-order derivative through centered finite-difference approximation\n",
      "\n",
      "    >>> g.dx2\n",
      "    Derivative(g(x, y), (x, 2))\n",
      "\n",
      "    Notes\n",
      "    -----\n",
      "    The parameters must always be given as keyword arguments, since SymPy\n",
      "    uses ``*args`` to (re-)create the dimension arguments of the symbolic object.\n",
      "    \n"
     ]
    }
   ],
   "source": [
    "print(Function.__doc__)"
   ]
  },
  {
   "cell_type": "markdown",
   "metadata": {},
   "source": [
    "Ok, let's create a function $f(x, y)$ and look at the data Devito has associated with it. Please note that it is important to use explicit keywords, such as `name` or `grid` when creating `Function` objects."
   ]
  },
  {
   "cell_type": "code",
   "execution_count": 5,
   "metadata": {},
   "outputs": [
    {
     "data": {
      "text/latex": [
       "$\\displaystyle f{\\left(x,y \\right)}$"
      ],
      "text/plain": [
       "f(x, y)"
      ]
     },
     "execution_count": 5,
     "metadata": {},
     "output_type": "execute_result"
    }
   ],
   "source": [
    "f = Function(name='f', grid=grid)\n",
    "f"
   ]
  },
  {
   "cell_type": "code",
   "execution_count": 6,
   "metadata": {},
   "outputs": [
    {
     "data": {
      "text/plain": [
       "Data([[0., 0., 0., 0., 0., 0.],\n",
       "      [0., 0., 0., 0., 0., 0.],\n",
       "      [0., 0., 0., 0., 0., 0.],\n",
       "      [0., 0., 0., 0., 0., 0.],\n",
       "      [0., 0., 0., 0., 0., 0.]], dtype=float32)"
      ]
     },
     "execution_count": 6,
     "metadata": {},
     "output_type": "execute_result"
    }
   ],
   "source": [
    "f.data"
   ]
  },
  {
   "cell_type": "markdown",
   "metadata": {},
   "source": [
    "By default, Devito `Function` objects use the spatial dimensions `(x, y)` for 2D grids and `(x, y, z)` for 3D grids. To solve a PDE over several timesteps a time dimension is also required by our symbolic function. For this Devito provides an additional function type, the `TimeFunction`, which incorporates the correct dimension along with some other intricacies needed to create a time stepping scheme."
   ]
  },
  {
   "cell_type": "code",
   "execution_count": 7,
   "metadata": {},
   "outputs": [
    {
     "data": {
      "text/latex": [
       "$\\displaystyle g{\\left(t,x,y \\right)}$"
      ],
      "text/plain": [
       "g(t, x, y)"
      ]
     },
     "execution_count": 7,
     "metadata": {},
     "output_type": "execute_result"
    }
   ],
   "source": [
    "g = TimeFunction(name='g', grid=grid)\n",
    "g"
   ]
  },
  {
   "cell_type": "markdown",
   "metadata": {},
   "source": [
    "Since the default time order of a `TimeFunction` is `1`, the shape of `f` is `(2, 5, 6)`, i.e. Devito has allocated two buffers to represent `g(t, x, y)` and `g(t + dt, x, y)`:"
   ]
  },
  {
   "cell_type": "code",
   "execution_count": 8,
   "metadata": {},
   "outputs": [
    {
     "data": {
      "text/plain": [
       "(2, 5, 6)"
      ]
     },
     "execution_count": 8,
     "metadata": {},
     "output_type": "execute_result"
    }
   ],
   "source": [
    "g.shape"
   ]
  },
  {
   "cell_type": "markdown",
   "metadata": {},
   "source": [
    "**A note on the size of the time dimension:** By default, the time dimension will be allocated with the minimum number of elements required by the time-stepping scheme employed. The default `time_order` is `1` for which time stepping schemes will be of the form\n",
    "\n",
    "\\begin{equation*}\n",
    " \\mathbf{g}^{(n+1)}=f(\\mathbf{g}^{(n)}),\n",
    "\\end{equation*}\n",
    "\n",
    "that is, we need to store the field $g$ at the *current* and *next* time step and hence the size of 2. The c code will then be generated with *modulo time-stepping* to account for this (we'll see an example below). Therefore, given a time step $dt$ we would have that\n",
    "\n",
    "| $g(t)$      | Location stored |\n",
    "| ----------- | ----------- |\n",
    "| $g(0)$      | `g.data[0]`      |\n",
    "| $g(dt)$   | `g.data[1]`        |\n",
    "| $g(2dt)$      | `g.data[0]` |\n",
    "| $g(3dt)$   | `g.data[1]` |\n",
    "| $g(4dt)$   | `g.data[0]` |\n",
    "\n",
    "and so forth.\n",
    "\n",
    "To solve a PDE that is second order in time directly, such as we'll do later when solving the second order wave-equation, we'll need to time-stepping scheme with a minimum time order of 2. If we define, e.g.,\n",
    "\n",
    "`g = TimeFunction(name='g', grid=grid, time_order=2)`\n",
    "\n",
    "then the time dimension of `g` would now have a size of 3 since the time-stepping scheme would look like\n",
    "\n",
    "\\begin{equation*}\n",
    " \\mathbf{g}^{(n+1)}=f(\\mathbf{g}^{(n)}, \\mathbf{g}^{(n-1)}).\n",
    "\\end{equation*}\n",
    "\n",
    "We would then have `data` stored as follows\n",
    "\n",
    "| $g(t)$      | Location stored |\n",
    "| ----------- | ----------- |\n",
    "| $g(0)$      | `g.data[0]`      |\n",
    "| $g(dt)$   | `g.data[1]`        |\n",
    "| $g(2dt)$      | `g.data[2]` |\n",
    "| $g(3dt)$   | `g.data[0]` |\n",
    "| $g(4dt)$   | `g.data[1]` |\n",
    "| $g(5dt)$   | `g.data[2]` |\n",
    "| $g(6dt)$   | `g.data[0]` |\n",
    "\n",
    "If we with to save the value of a function at each time-step (and avoid over-writing the function at old time steps as is the default mode of operation) we can make use of the `save` parameter. That is, if we wish to store the function at 1000 different points in time (i.e. set the function to have a time-dimension size of 1000)  we can define\n",
    "\n",
    "`g = TimeFunction(name='g', grid=grid, save=1000)`\n",
    "\n",
    "and in this case the c code would then be generated without modulo time-stepping.\n",
    "\n",
    "Above, we've just scratched the surface of some basic configurations available. In practice, we may wish to subsample a field in time, implement a checkpoint method or so on. For further discussion, please see further tutorials and information located [here](https://github.com/devitocodes/devito/blob/master/examples/userapi/02_apply.ipynb), [here](https://github.com/devitocodes/devito/blob/master/examples/userapi/05_conditional_dimension.ipynb) and [here](https://github.com/devitocodes/pyrevolve)."
   ]
  },
  {
   "cell_type": "markdown",
   "metadata": {},
   "source": [
    "## Forming finite difference schemes\n",
    "\n",
    "Let us start by considering the simple example of 2D linear convection. But first, lets review some basics of finite differences.\n",
    "\n",
    "Recall that the Taylor series of $f(x,t)$ in the spatial dimension takes the form\n",
    "\n",
    "\\begin{equation*}\n",
    " f(x+h,t)=f(x,t)+\\frac{\\partial f}{\\partial x}h+\\frac{1}{2}\\frac{\\partial^2 f}{\\partial x^2}h^2+\\frac{1}{3!}\\frac{\\partial^3 f}{\\partial x^3}h^3+\\frac{1}{4!}\\frac{\\partial^4 f}{\\partial x^4}h^4+\\ldots.\n",
    "\\end{equation*}\n",
    "\n",
    "We can re-arrange the above expansion in the form\n",
    "\n",
    "\\begin{equation*}\n",
    " \\frac{\\partial f}{\\partial x}=\\frac{f(x+h,t)-f(x,t)}{h}-\\frac{1}{h}\\sum_{n=2}^{\\infty}\\frac{1}{n!}\\frac{\\partial^n f}{\\partial x^n}h^n.\n",
    "\\end{equation*}\n",
    "\n",
    "Thus, provided $h$ is small we can say\n",
    "\n",
    "\\begin{equation*}\n",
    " \\frac{\\partial f}{\\partial x}\\approx\\frac{f(x+h,t)-f(x,t)}{h},\n",
    "\\end{equation*}\n",
    "\n",
    "which will have an associated error\n",
    "\n",
    "\\begin{equation*}\n",
    "-\\frac{1}{h}\\sum_{n=2}^{\\infty}\\frac{1}{n!}\\frac{\\partial^n f}{\\partial x^n}h^n\n",
    "\\end{equation*}\n",
    "\n",
    "This is the well known *forward difference* approximation (or the *right* derivative) and is how spatial derivatives are approximated in 'space order' 1 finite difference schemes.\n",
    "\n",
    "We can also write the following Taylor expansion\n",
    "\n",
    "\\begin{equation*}\n",
    " f(x-h,t)=f(x,t)-\\frac{\\partial f}{\\partial x}h+\\frac{1}{2}\\frac{\\partial^2 f}{\\partial x^2}h^2-\\frac{1}{3!}\\frac{\\partial^3 f}{\\partial x^3}h^3+\\frac{1}{4!}\\frac{\\partial^4 f}{\\partial x^4}h^4+\\ldots.\n",
    "\\end{equation*}\n",
    "\n",
    "This leads to the backward difference (or *left* derivative) approximation:\n",
    "\n",
    "\\begin{equation*}\n",
    " \\frac{\\partial f}{\\partial x}\\approx\\frac{f(x,t)-f(x-h,t)}{h}.\n",
    "\\end{equation*}\n",
    "\n",
    "In Devito, these derivatives can be represented via the following symbolic notation:"
   ]
  },
  {
   "cell_type": "code",
   "execution_count": 9,
   "metadata": {},
   "outputs": [
    {
     "data": {
      "text/latex": [
       "$\\displaystyle \\frac{\\partial}{\\partial x} f{\\left(x,y \\right)}$"
      ],
      "text/plain": [
       "Derivative(f(x, y), x)"
      ]
     },
     "execution_count": 9,
     "metadata": {},
     "output_type": "execute_result"
    }
   ],
   "source": [
    "f.dxr # Forward difference/right derivative"
   ]
  },
  {
   "cell_type": "code",
   "execution_count": 10,
   "metadata": {},
   "outputs": [
    {
     "data": {
      "text/latex": [
       "$\\displaystyle \\frac{\\partial}{\\partial x} f{\\left(x,y \\right)}$"
      ],
      "text/plain": [
       "Derivative(f(x, y), x)"
      ]
     },
     "execution_count": 10,
     "metadata": {},
     "output_type": "execute_result"
    }
   ],
   "source": [
    "f.dxl # Backward difference/left derivative"
   ]
  },
  {
   "cell_type": "markdown",
   "metadata": {},
   "source": [
    "And to see the actual stencils they represent, we enduce the `evaluate` method:"
   ]
  },
  {
   "cell_type": "code",
   "execution_count": 11,
   "metadata": {},
   "outputs": [
    {
     "data": {
      "text/latex": [
       "$\\displaystyle - \\frac{f{\\left(x,y \\right)}}{h_{x}} + \\frac{f{\\left(x + h_{x},y \\right)}}{h_{x}}$"
      ],
      "text/plain": [
       "-f(x, y)/h_x + f(x + h_x, y)/h_x"
      ]
     },
     "execution_count": 11,
     "metadata": {},
     "output_type": "execute_result"
    }
   ],
   "source": [
    "f.dxr.evaluate"
   ]
  },
  {
   "cell_type": "code",
   "execution_count": 12,
   "metadata": {},
   "outputs": [
    {
     "data": {
      "text/latex": [
       "$\\displaystyle \\frac{f{\\left(x,y \\right)}}{h_{x}} - \\frac{f{\\left(x - h_{x},y \\right)}}{h_{x}}$"
      ],
      "text/plain": [
       "f(x, y)/h_x - f(x - h_x, y)/h_x"
      ]
     },
     "execution_count": 12,
     "metadata": {},
     "output_type": "execute_result"
    }
   ],
   "source": [
    "f.dxl.evaluate"
   ]
  },
  {
   "cell_type": "markdown",
   "metadata": {},
   "source": [
    "which we see correspond with the expressions derived from the Taylor series above. Note that we also have access to the expression  `f.dx` which, in this particular instance, will produce a stencil equivalent to `f.dxr`. (We'll come back to this shortly when considering higher order stencils)."
   ]
  },
  {
   "cell_type": "code",
   "execution_count": 13,
   "metadata": {},
   "outputs": [
    {
     "data": {
      "text/latex": [
       "$\\displaystyle - \\frac{f{\\left(x,y \\right)}}{h_{x}} + \\frac{f{\\left(x + h_{x},y \\right)}}{h_{x}}$"
      ],
      "text/plain": [
       "-f(x, y)/h_x + f(x + h_x, y)/h_x"
      ]
     },
     "execution_count": 13,
     "metadata": {},
     "output_type": "execute_result"
    }
   ],
   "source": [
    "f.dx.evaluate"
   ]
  },
  {
   "cell_type": "markdown",
   "metadata": {},
   "source": [
    "The functions we created above all act as `sympy.Function` objects, which means that we can form symbolic derivative expressions from them. Devito provides a set of shorthand expressions (implemented as Python properties) that allow us to generate finite differences in symbolic form. For example, the property `f.dx` denotes $\\frac{\\partial}{\\partial x} f(x, y)$ - only that Devito has already discretised it with a finite difference expression.\n",
    "\n",
    "| Derivative | Shorthand | Discretised | Stencil |\n",
    "| ---------- |:---------:|:-----------:|:-------:|\n",
    "| $\\frac{\\partial}{\\partial x}f(x, y)$ (right)) | `f.dxr` | $\\frac{f(x+h_x,y)}{h_x} - \\frac{f(x,y)}{h_x}$ | <img src=\"figures/stencil_forward.png\" style=\"width: 180px;\"/> |\n",
    "| $\\frac{\\partial}{\\partial x}f(x, y)$ (left)) | `f.dxl` | $\\frac{f(x,y)}{h_x} - \\frac{f(x-h_x,y)}{h_x}$ | <img src=\"figures/stencil_backward.png\" style=\"width: 180px;\"/> |"
   ]
  },
  {
   "cell_type": "markdown",
   "metadata": {},
   "source": [
    "We can form stencils for approximating the derivatives in any other spatial or time dimension in a similar manner.\n",
    "Let us introduce the function $u(x,y,t)$. We have\n",
    "\n",
    "\\begin{equation*}\n",
    " \\frac{\\partial u}{\\partial t}\\approx\\frac{u(x, y, t+\\delta t)-u(x, y, t)}{\\delta t},\n",
    "\\end{equation*}\n",
    "\n",
    "where $\\delta t$ is some small increment in time. This then allows us to create 'time-stepping schemes'. For example, consider the partial differential equation describing 2D linear advection\n",
    "\n",
    "\\begin{equation*}\n",
    " \\frac{\\partial u}{\\partial t}+c\\frac{\\partial u}{\\partial x} + c\\frac{\\partial u}{\\partial y}=0,\n",
    "\\end{equation*}\n",
    "\n",
    "discretizing only the temporal term for the time being we have\n",
    "\n",
    "\\begin{equation*}\n",
    " \\frac{u(x, y, t+\\delta t)-u(x, y, t)}{\\delta t}+c\\left(\\frac{\\partial u}{\\partial x}+\\frac{\\partial u}{\\partial y}\\right)=0,\n",
    "\\end{equation*}\n",
    "\n",
    "which we can re-arrange as\n",
    "\n",
    "\\begin{equation*}\n",
    " u(x, y, t+\\delta t)=u(x, y, t)-\\delta tc\\left(\\frac{\\partial u}{\\partial x}+\\frac{\\partial u}{\\partial y}\\right),\n",
    "\\end{equation*}\n",
    "\n",
    "which is one of the most basic *explicit* time stepping schemes. Now if we approximated our spatial derivative with a backward difference approximation our scheme will become\n",
    "\n",
    "\\begin{equation*}\n",
    " u(x, y, t+\\delta t)=u(x, y, t)-\\delta tc\\left(\\frac{u(x, y, t)-u(x-h, y, t)}{h} +\\frac{u(x, y, t)-u(x, y-h, t)}{h}\\right).\n",
    "\\end{equation*}\n",
    "\n",
    "(Note that here we have assumed an equal grid spacing $h_x=h_y=h$). Then, provided we know the status of our function $u$ at $t=0$ we can use the above scheme to compute the evolution of $u$ forward in time. Lets now implement this scheme in Devito.\n",
    "\n",
    "We first define our grid, the function $u$ and provide an initial condition:"
   ]
  },
  {
   "cell_type": "code",
   "execution_count": 14,
   "metadata": {},
   "outputs": [
    {
     "data": {
      "image/png": "[encoded data removed]",
      "text/plain": [
       "<Figure size 1100x700 with 1 Axes>"
      ]
     },
     "metadata": {
      "needs_background": "light"
     },
     "output_type": "display_data"
    }
   ],
   "source": [
    "from examples.cfd import init_smooth, plot_field\n",
    "\n",
    "nt = 100  # Number of timesteps\n",
    "dt = 0.2 * 2. / 80  # Timestep size (sigma=0.2)\n",
    "c = 1  # Value for c\n",
    "\n",
    "# Then we create a grid and our function\n",
    "grid = Grid(shape=(81, 81), extent=(2., 2.))\n",
    "u = TimeFunction(name='u', grid=grid)\n",
    "\n",
    "# We can now set the initial condition and plot it\n",
    "init_smooth(field=u.data[0], dx=grid.spacing[0], dy=grid.spacing[1])\n",
    "init_smooth(field=u.data[1], dx=grid.spacing[0], dy=grid.spacing[1])\n",
    "\n",
    "plot_field(u.data[0])"
   ]
  },
  {
   "cell_type": "markdown",
   "metadata": {},
   "source": [
    "Next we formulate our equation and finite difference scheme:"
   ]
  },
  {
   "cell_type": "code",
   "execution_count": 15,
   "metadata": {},
   "outputs": [
    {
     "data": {
      "text/latex": [
       "$\\displaystyle \\frac{\\partial}{\\partial x} u{\\left(t,x,y \\right)} + \\frac{\\partial}{\\partial y} u{\\left(t,x,y \\right)} + \\frac{\\partial}{\\partial t} u{\\left(t,x,y \\right)} = 0$"
      ],
      "text/plain": [
       "Eq(Derivative(u(t, x, y), x) + Derivative(u(t, x, y), y) + Derivative(u(t, x, y), t), 0)"
      ]
     },
     "execution_count": 15,
     "metadata": {},
     "output_type": "execute_result"
    }
   ],
   "source": [
    "eq = Eq(u.dt + c * u.dxl + c * u.dyl, 0)\n",
    "eq"
   ]
  },
  {
   "cell_type": "code",
   "execution_count": 16,
   "metadata": {},
   "outputs": [
    {
     "data": {
      "text/latex": [
       "$\\displaystyle u{\\left(t + dt,x,y \\right)} = dt \\left(- \\frac{\\partial}{\\partial x} u{\\left(t,x,y \\right)} - \\frac{\\partial}{\\partial y} u{\\left(t,x,y \\right)} + \\frac{u{\\left(t,x,y \\right)}}{dt}\\right)$"
      ],
      "text/plain": [
       "Eq(u(t + dt, x, y), dt*(-Derivative(u(t, x, y), x) - Derivative(u(t, x, y), y) + u(t, x, y)/dt))"
      ]
     },
     "execution_count": 16,
     "metadata": {},
     "output_type": "execute_result"
    }
   ],
   "source": [
    "stencil = solve(eq, u.forward)\n",
    "update = Eq(u.forward, stencil)\n",
    "update"
   ]
  },
  {
   "cell_type": "markdown",
   "metadata": {},
   "source": [
    "We can check our `update` scheme is the same as our pen and paper scheme by `evaluate`ing it:"
   ]
  },
  {
   "cell_type": "code",
   "execution_count": 17,
   "metadata": {},
   "outputs": [
    {
     "data": {
      "text/latex": [
       "$\\displaystyle u{\\left(t + dt,x,y \\right)} = dt \\left(- (\\frac{u{\\left(t,x,y \\right)}}{h_{x}} - \\frac{u{\\left(t,x - h_{x},y \\right)}}{h_{x}}) - \\left(\\frac{u{\\left(t,x,y \\right)}}{h_{y}} - \\frac{u{\\left(t,x,y - h_{y} \\right)}}{h_{y}}\\right) + \\frac{u{\\left(t,x,y \\right)}}{dt}\\right)$"
      ],
      "text/plain": [
       "Eq(u(t + dt, x, y), dt*(-(u(t, x, y)/h_x - u(t, x - h_x, y)/h_x) - (u(t, x, y)/h_y - u(t, x, y - h_y)/h_y) + u(t, x, y)/dt))"
      ]
     },
     "execution_count": 17,
     "metadata": {},
     "output_type": "execute_result"
    }
   ],
   "source": [
    "update.evaluate"
   ]
  },
  {
   "cell_type": "markdown",
   "metadata": {},
   "source": [
    "Finally we need to create and execute a Devito operator. This is where the *magic* happens: Devito takes our symbolic specification of the boundary value problem and through a number of compilation passes produces c code optimised for the target platform. We'll talk more about `Operator` objects in the following section, for now we'll just utilize it"
   ]
  },
  {
   "cell_type": "code",
   "execution_count": 18,
   "metadata": {},
   "outputs": [
    {
     "name": "stderr",
     "output_type": "stream",
     "text": [
      "Operator `Kernel` ran in 0.01 s\n"
     ]
    },
    {
     "data": {
      "image/png": "[encoded data removed]",
      "text/plain": [
       "<Figure size 1100x700 with 1 Axes>"
      ]
     },
     "metadata": {
      "needs_background": "light"
     },
     "output_type": "display_data"
    }
   ],
   "source": [
    "op = Operator(update)\n",
    "op(time=nt+1, dt=dt)\n",
    "\n",
    "plot_field(u.data[0])"
   ]
  },
  {
   "cell_type": "markdown",
   "metadata": {},
   "source": [
    "We can view the generated c code via"
   ]
  },
  {
   "cell_type": "code",
   "execution_count": 19,
   "metadata": {},
   "outputs": [
    {
     "name": "stdout",
     "output_type": "stream",
     "text": [
      "#define _POSIX_C_SOURCE 200809L\n",
      "#define START_TIMER(S) struct timeval start_ ## S , end_ ## S ; gettimeofday(&start_ ## S , NULL);\n",
      "#define STOP_TIMER(S,T) gettimeofday(&end_ ## S, NULL); T->S += (double)(end_ ## S .tv_sec-start_ ## S.tv_sec)+(double)(end_ ## S .tv_usec-start_ ## S .tv_usec)/1000000;\n",
      "\n",
      "#include \"stdlib.h\"\n",
      "#include \"math.h\"\n",
      "#include \"sys/time.h\"\n",
      "#include \"xmmintrin.h\"\n",
      "#include \"pmmintrin.h\"\n",
      "\n",
      "struct dataobj\n",
      "{\n",
      "  void *restrict data;\n",
      "  int * size;\n",
      "  int * npsize;\n",
      "  int * dsize;\n",
      "  int * hsize;\n",
      "  int * hofs;\n",
      "  int * oofs;\n",
      "} ;\n",
      "\n",
      "struct profiler\n",
      "{\n",
      "  double section0;\n",
      "} ;\n",
      "\n",
      "\n",
      "int Kernel(const float dt, const float h_x, const float h_y, struct dataobj *restrict u_vec, const int time_M, const int time_m, const int x_M, const int x_m, const int y_M, const int y_m, struct profiler * timers)\n",
      "{\n",
      "  float (*restrict u)[u_vec->size[1]][u_vec->size[2]] __attribute__ ((aligned (64))) = (float (*)[u_vec->size[1]][u_vec->size[2]]) u_vec->data;\n",
      "\n",
      "  /* Flush denormal numbers to zero in hardware */\n",
      "  _MM_SET_DENORMALS_ZERO_MODE(_MM_DENORMALS_ZERO_ON);\n",
      "  _MM_SET_FLUSH_ZERO_MODE(_MM_FLUSH_ZERO_ON);\n",
      "\n",
      "  float r0 = 1.0F/h_x;\n",
      "  float r1 = 1.0F/h_y;\n",
      "  float r2 = 1.0F/dt;\n",
      "\n",
      "  for (int time = time_m, t0 = (time)%(2), t1 = (time + 1)%(2); time <= time_M; time += 1, t0 = (time)%(2), t1 = (time + 1)%(2))\n",
      "  {\n",
      "    /* Begin section0 */\n",
      "    START_TIMER(section0)\n",
      "    for (int x = x_m; x <= x_M; x += 1)\n",
      "    {\n",
      "      #pragma omp simd aligned(u:32)\n",
      "      for (int y = y_m; y <= y_M; y += 1)\n",
      "      {\n",
      "        u[t1][x + 1][y + 1] = dt*(-r0*(-u[t0][x][y + 1]) - r0*u[t0][x + 1][y + 1] - r1*(-u[t0][x + 1][y]) - r1*u[t0][x + 1][y + 1] + r2*u[t0][x + 1][y + 1]);\n",
      "      }\n",
      "    }\n",
      "    STOP_TIMER(section0,timers)\n",
      "    /* End section0 */\n",
      "  }\n",
      "\n",
      "  return 0;\n",
      "}\n",
      "\n"
     ]
    }
   ],
   "source": [
    "print(op.ccode)"
   ]
  },
  {
   "cell_type": "markdown",
   "metadata": {},
   "source": [
    "There also exist a range of other convenient shortcuts. For example, the forward and backward stencil points, `g(t+dt, x, y)` and `g(t-dt, x, y)`."
   ]
  },
  {
   "cell_type": "code",
   "execution_count": 20,
   "metadata": {},
   "outputs": [
    {
     "data": {
      "text/latex": [
       "$\\displaystyle g{\\left(t + dt,x,y \\right)}$"
      ],
      "text/plain": [
       "g(t + dt, x, y)"
      ]
     },
     "execution_count": 20,
     "metadata": {},
     "output_type": "execute_result"
    }
   ],
   "source": [
    "g.forward"
   ]
  },
  {
   "cell_type": "code",
   "execution_count": 21,
   "metadata": {},
   "outputs": [
    {
     "data": {
      "text/latex": [
       "$\\displaystyle g{\\left(t - dt,x,y \\right)}$"
      ],
      "text/plain": [
       "g(t - dt, x, y)"
      ]
     },
     "execution_count": 21,
     "metadata": {},
     "output_type": "execute_result"
    }
   ],
   "source": [
    "g.backward"
   ]
  },
  {
   "cell_type": "markdown",
   "metadata": {},
   "source": [
    "And of course, there's nothing to stop us taking derivatives on these objects:"
   ]
  },
  {
   "cell_type": "code",
   "execution_count": 22,
   "metadata": {},
   "outputs": [
    {
     "data": {
      "text/latex": [
       "$\\displaystyle \\frac{\\partial}{\\partial t} g{\\left(t + dt,x,y \\right)}$"
      ],
      "text/plain": [
       "Derivative(g(t + dt, x, y), t)"
      ]
     },
     "execution_count": 22,
     "metadata": {},
     "output_type": "execute_result"
    }
   ],
   "source": [
    "g.forward.dt"
   ]
  },
  {
   "cell_type": "code",
   "execution_count": 23,
   "metadata": {},
   "outputs": [
    {
     "data": {
      "text/latex": [
       "$\\displaystyle \\frac{\\partial}{\\partial y} g{\\left(t + dt,x,y \\right)}$"
      ],
      "text/plain": [
       "Derivative(g(t + dt, x, y), y)"
      ]
     },
     "execution_count": 23,
     "metadata": {},
     "output_type": "execute_result"
    }
   ],
   "source": [
    "g.forward.dy"
   ]
  },
  {
   "cell_type": "markdown",
   "metadata": {},
   "source": [
    "## Second derivatives and high-order stencils\n",
    "\n",
    "The logic for constructing derivatives and finite difference schemes introduced above carries over higher order derivatives and higher order approximations in a straightforward manner. For example, second derivative with respect to $x$ of order two,\n",
    "\n",
    "\\begin{equation*}\n",
    "  \\frac{\\partial^2 f}{\\partial x^2}=\\frac{f(x-h,t)-2f(x,t)+f(x+h,t)+\\mathcal{O}(h^3)}{h^2},\n",
    "\\end{equation*}\n",
    "\n",
    "can be implemented via `f.dx2`. Note however, if we attempt to compute this using the `f` defined above we will see an error:"
   ]
  },
  {
   "cell_type": "code",
   "execution_count": 24,
   "metadata": {},
   "outputs": [],
   "source": [
    "# f.dx2 # Uncomment to see the error"
   ]
  },
  {
   "cell_type": "markdown",
   "metadata": {},
   "source": [
    "Note the `AttributeError: f object has no attribute 'dx2'`. Let us review the function documentation again:"
   ]
  },
  {
   "cell_type": "code",
   "execution_count": 25,
   "metadata": {},
   "outputs": [
    {
     "name": "stdout",
     "output_type": "stream",
     "text": [
      "\n",
      "    Tensor symbol representing a discrete function in symbolic equations.\n",
      "\n",
      "    A Function carries multi-dimensional data and provides operations to create\n",
      "    finite-differences approximations.\n",
      "\n",
      "    A Function encapsulates space-varying data; for data that also varies in time,\n",
      "    use TimeFunction instead.\n",
      "\n",
      "    Parameters\n",
      "    ----------\n",
      "    name : str\n",
      "        Name of the symbol.\n",
      "    grid : Grid, optional\n",
      "        Carries shape, dimensions, and dtype of the Function. When grid is not\n",
      "        provided, shape and dimensions must be given. For MPI execution, a\n",
      "        Grid is compulsory.\n",
      "    space_order : int or 3-tuple of ints, optional\n",
      "        Discretisation order for space derivatives. Defaults to 1. ``space_order`` also\n",
      "        impacts the number of points available around a generic point of interest.  By\n",
      "        default, ``space_order`` points are available on both sides of a generic point of\n",
      "        interest, including those nearby the grid boundary. Sometimes, fewer points\n",
      "        suffice; in other scenarios, more points are necessary. In such cases, instead of\n",
      "        an integer, one can pass a 3-tuple ``(o, lp, rp)`` indicating the discretization\n",
      "        order (``o``) as well as the number of points on the left (``lp``) and right\n",
      "        (``rp``) sides of a generic point of interest.\n",
      "    shape : tuple of ints, optional\n",
      "        Shape of the domain region in grid points. Only necessary if ``grid`` isn't given.\n",
      "    dimensions : tuple of Dimension, optional\n",
      "        Dimensions associated with the object. Only necessary if ``grid`` isn't given.\n",
      "    dtype : data-type, optional\n",
      "        Any object that can be interpreted as a numpy data type. Defaults\n",
      "        to ``np.float32``.\n",
      "    staggered : Dimension or tuple of Dimension or Stagger, optional\n",
      "        Define how the Function is staggered.\n",
      "    initializer : callable or any object exposing the buffer interface, optional\n",
      "        Data initializer. If a callable is provided, data is allocated lazily.\n",
      "    allocator : MemoryAllocator, optional\n",
      "        Controller for memory allocation. To be used, for example, when one wants\n",
      "        to take advantage of the memory hierarchy in a NUMA architecture. Refer to\n",
      "        `default_allocator.__doc__` for more information.\n",
      "    padding : int or tuple of ints, optional\n",
      "        .. deprecated:: shouldn't be used; padding is now automatically inserted.\n",
      "\n",
      "        Allocate extra grid points to maximize data access alignment. When a tuple\n",
      "        of ints, one int per Dimension should be provided.\n",
      "\n",
      "    Examples\n",
      "    --------\n",
      "    Creation\n",
      "\n",
      "    >>> from devito import Grid, Function\n",
      "    >>> grid = Grid(shape=(4, 4))\n",
      "    >>> f = Function(name='f', grid=grid)\n",
      "    >>> f\n",
      "    f(x, y)\n",
      "    >>> g = Function(name='g', grid=grid, space_order=2)\n",
      "    >>> g\n",
      "    g(x, y)\n",
      "\n",
      "    First-order derivatives through centered finite-difference approximations\n",
      "\n",
      "    >>> f.dx\n",
      "    Derivative(f(x, y), x)\n",
      "    >>> f.dy\n",
      "    Derivative(f(x, y), y)\n",
      "    >>> g.dx\n",
      "    Derivative(g(x, y), x)\n",
      "    >>> (f + g).dx\n",
      "    Derivative(f(x, y) + g(x, y), x)\n",
      "\n",
      "    First-order derivatives through left/right finite-difference approximations\n",
      "\n",
      "    >>> f.dxl\n",
      "    Derivative(f(x, y), x)\n",
      "\n",
      "    Note that the fact that it's a left-derivative isn't captured in the representation.\n",
      "    However, upon derivative expansion, this becomes clear\n",
      "\n",
      "    >>> f.dxl.evaluate\n",
      "    f(x, y)/h_x - f(x - h_x, y)/h_x\n",
      "    >>> f.dxr\n",
      "    Derivative(f(x, y), x)\n",
      "\n",
      "    Second-order derivative through centered finite-difference approximation\n",
      "\n",
      "    >>> g.dx2\n",
      "    Derivative(g(x, y), (x, 2))\n",
      "\n",
      "    Notes\n",
      "    -----\n",
      "    The parameters must always be given as keyword arguments, since SymPy\n",
      "    uses ``*args`` to (re-)create the dimension arguments of the symbolic object.\n",
      "    \n"
     ]
    }
   ],
   "source": [
    "print(Function.__doc__)"
   ]
  },
  {
   "cell_type": "markdown",
   "metadata": {},
   "source": [
    "Note the optional argument `space_order`. We didn't previously pass this argument and hence it took the default value of 1. That is, defining it in this way, it can only support spatial derivatives of order **one** (or schemes of oder one). If we wish to construct higher order derivatives or schemes, we can do so as follows:"
   ]
  },
  {
   "cell_type": "markdown",
   "metadata": {},
   "source": [
    "Pass the desired `space_order` when constructing a function. For example"
   ]
  },
  {
   "cell_type": "code",
   "execution_count": 26,
   "metadata": {},
   "outputs": [],
   "source": [
    "f = Function(name='f', grid=grid, space_order=2)"
   ]
  },
  {
   "cell_type": "code",
   "execution_count": 27,
   "metadata": {},
   "outputs": [
    {
     "data": {
      "text/latex": [
       "$\\displaystyle - \\frac{2.0 f{\\left(x,y \\right)}}{h_{x}^{2}} + \\frac{f{\\left(x - h_{x},y \\right)}}{h_{x}^{2}} + \\frac{f{\\left(x + h_{x},y \\right)}}{h_{x}^{2}}$"
      ],
      "text/plain": [
       "-2.0*f(x, y)/h_x**2 + f(x - h_x, y)/h_x**2 + f(x + h_x, y)/h_x**2"
      ]
     },
     "execution_count": 27,
     "metadata": {},
     "output_type": "execute_result"
    }
   ],
   "source": [
    "f.dx2.evaluate"
   ]
  },
  {
   "cell_type": "markdown",
   "metadata": {},
   "source": [
    "And if, for example, we wish to produce fourth order accurate first derivatives\n",
    "\n",
    "\\begin{equation*}\n",
    " \\frac{\\partial f}{\\partial x}=\\frac{\\frac{1}{12}f(x-2h,t)-\\frac{2}{3}f(x-h,t)+\\frac{2}{3}f(x+h,t)-\\frac{1}{12}f(x+2h,t)+\\mathcal{O}(h^5)}{h},\n",
    "\\end{equation*}\n",
    "\n",
    "we can do so in the following manner:"
   ]
  },
  {
   "cell_type": "code",
   "execution_count": 28,
   "metadata": {},
   "outputs": [
    {
     "data": {
      "text/latex": [
       "$\\displaystyle \\frac{0.0833333333 f{\\left(x - 2 h_{x},y \\right)}}{h_{x}} - \\frac{0.666666667 f{\\left(x - h_{x},y \\right)}}{h_{x}} + \\frac{0.666666667 f{\\left(x + h_{x},y \\right)}}{h_{x}} - \\frac{0.0833333333 f{\\left(x + 2 h_{x},y \\right)}}{h_{x}}$"
      ],
      "text/plain": [
       "0.0833333333*f(x - 2*h_x, y)/h_x - 0.666666667*f(x - h_x, y)/h_x + 0.666666667*f(x + h_x, y)/h_x - 0.0833333333*f(x + 2*h_x, y)/h_x"
      ]
     },
     "execution_count": 28,
     "metadata": {},
     "output_type": "execute_result"
    }
   ],
   "source": [
    "f = Function(name='f', grid=grid, space_order=4)\n",
    "f.dx.evaluate"
   ]
  },
  {
   "cell_type": "markdown",
   "metadata": {},
   "source": [
    "By default, Devito will produce schemes with the order `space_order` used when defining a `Function`.\n",
    "\n",
    "We can override this by explicitly passing the space order of the desired scheme when creating a symbolic expression for a derivative. For example:"
   ]
  },
  {
   "cell_type": "code",
   "execution_count": 29,
   "metadata": {},
   "outputs": [
    {
     "data": {
      "text/latex": [
       "$\\displaystyle - \\frac{f{\\left(x,y \\right)}}{h_{x}} + \\frac{f{\\left(x + h_{x},y \\right)}}{h_{x}}$"
      ],
      "text/plain": [
       "-f(x, y)/h_x + f(x + h_x, y)/h_x"
      ]
     },
     "execution_count": 29,
     "metadata": {},
     "output_type": "execute_result"
    }
   ],
   "source": [
    "f.dx(fd_order=2).evaluate"
   ]
  },
  {
   "cell_type": "markdown",
   "metadata": {},
   "source": [
    "Note that `fd_order` cannot exceed the `space_order` with which a `Function` was defined."
   ]
  },
  {
   "cell_type": "markdown",
   "metadata": {},
   "source": [
    "Time derivatives follow a similar principle, we simply instead pass the desired `time_order` to a function, e.g.,"
   ]
  },
  {
   "cell_type": "code",
   "execution_count": 30,
   "metadata": {},
   "outputs": [],
   "source": [
    "g = TimeFunction(name='g', grid=grid, time_order=2, space_order=4)"
   ]
  },
  {
   "cell_type": "code",
   "execution_count": 31,
   "metadata": {},
   "outputs": [
    {
     "data": {
      "text/latex": [
       "$\\displaystyle \\left(- \\frac{2.0 g{\\left(t,x,y \\right)}}{dt^{2}} + \\frac{g{\\left(t - dt,x,y \\right)}}{dt^{2}} + \\frac{g{\\left(t + dt,x,y \\right)}}{dt^{2}}\\right) + \\left(\\frac{0.0833333333 g{\\left(t,x,y - 2 h_{y} \\right)}}{h_{y}} - \\frac{0.666666667 g{\\left(t,x,y - h_{y} \\right)}}{h_{y}} + \\frac{0.666666667 g{\\left(t,x,y + h_{y} \\right)}}{h_{y}} - \\frac{0.0833333333 g{\\left(t,x,y + 2 h_{y} \\right)}}{h_{y}}\\right)$"
      ],
      "text/plain": [
       "-2.0*g(t, x, y)/dt**2 + g(t - dt, x, y)/dt**2 + g(t + dt, x, y)/dt**2 + 0.0833333333*g(t, x, y - 2*h_y)/h_y - 0.666666667*g(t, x, y - h_y)/h_y + 0.666666667*g(t, x, y + h_y)/h_y - 0.0833333333*g(t, x, y + 2*h_y)/h_y"
      ]
     },
     "execution_count": 31,
     "metadata": {},
     "output_type": "execute_result"
    }
   ],
   "source": [
    "g.dt2.evaluate+g.dy.evaluate"
   ]
  },
  {
   "cell_type": "markdown",
   "metadata": {},
   "source": [
    "To implement the diffusion or wave equations, we must take the Laplacian $\\nabla^2 u$, which is the sum of the second derivatives in all spatial dimensions. For this, Devito also provides a shorthand expression, which means we do not have to hard-code the problem dimension (2D or 3D) in the code. To change the problem dimension we can create another `Grid` object and use this to re-define our `Function`'s:"
   ]
  },
  {
   "cell_type": "code",
   "execution_count": 32,
   "metadata": {},
   "outputs": [
    {
     "data": {
      "text/latex": [
       "$\\displaystyle u{\\left(t,x,y,z \\right)}$"
      ],
      "text/plain": [
       "u(t, x, y, z)"
      ]
     },
     "execution_count": 32,
     "metadata": {},
     "output_type": "execute_result"
    }
   ],
   "source": [
    "grid_3d = Grid(shape=(5, 6, 7), extent=(1., 1., 1.))\n",
    "\n",
    "u = TimeFunction(name='u', grid=grid_3d, space_order=2)\n",
    "u"
   ]
  },
  {
   "cell_type": "markdown",
   "metadata": {},
   "source": [
    "We can re-define our function `u` with a different `space_order` argument to change the discretisation order of the stencil expression created. For example, we can derive an expression of the 12th-order Laplacian $\\nabla^2 u$:"
   ]
  },
  {
   "cell_type": "code",
   "execution_count": 33,
   "metadata": {},
   "outputs": [
    {
     "data": {
      "text/latex": [
       "$\\displaystyle \\frac{\\partial^{2}}{\\partial x^{2}} u{\\left(t,x,y,z \\right)} + \\frac{\\partial^{2}}{\\partial y^{2}} u{\\left(t,x,y,z \\right)} + \\frac{\\partial^{2}}{\\partial z^{2}} u{\\left(t,x,y,z \\right)}$"
      ],
      "text/plain": [
       "Derivative(u(t, x, y, z), (x, 2)) + Derivative(u(t, x, y, z), (y, 2)) + Derivative(u(t, x, y, z), (z, 2))"
      ]
     },
     "execution_count": 33,
     "metadata": {},
     "output_type": "execute_result"
    }
   ],
   "source": [
    "u = TimeFunction(name='u', grid=grid_3d, space_order=12)\n",
    "u.laplace"
   ]
  },
  {
   "cell_type": "markdown",
   "metadata": {},
   "source": [
    "The same expression could also have been generated explicitly via:"
   ]
  },
  {
   "cell_type": "code",
   "execution_count": 34,
   "metadata": {},
   "outputs": [
    {
     "data": {
      "text/latex": [
       "$\\displaystyle \\frac{\\partial^{2}}{\\partial x^{2}} u{\\left(t,x,y,z \\right)} + \\frac{\\partial^{2}}{\\partial y^{2}} u{\\left(t,x,y,z \\right)} + \\frac{\\partial^{2}}{\\partial z^{2}} u{\\left(t,x,y,z \\right)}$"
      ],
      "text/plain": [
       "Derivative(u(t, x, y, z), (x, 2)) + Derivative(u(t, x, y, z), (y, 2)) + Derivative(u(t, x, y, z), (z, 2))"
      ]
     },
     "execution_count": 34,
     "metadata": {},
     "output_type": "execute_result"
    }
   ],
   "source": [
    "u.dx2 + u.dy2 + u.dz2"
   ]
  },
  {
   "cell_type": "markdown",
   "metadata": {},
   "source": [
    "## Derivatives of composite expressions\n",
    "\n",
    "Derivatives of any arbitrary expression can easily be generated:"
   ]
  },
  {
   "cell_type": "code",
   "execution_count": 35,
   "metadata": {},
   "outputs": [],
   "source": [
    "u = TimeFunction(name='u', grid=grid, space_order=2)\n",
    "v = TimeFunction(name='v', grid=grid, space_order=2, time_order=2)"
   ]
  },
  {
   "cell_type": "code",
   "execution_count": 36,
   "metadata": {},
   "outputs": [
    {
     "data": {
      "text/latex": [
       "$\\displaystyle \\frac{\\partial^{2}}{\\partial x^{2}} u{\\left(t,x,y \\right)} + \\frac{\\partial^{2}}{\\partial y^{2}} u{\\left(t,x,y \\right)} + \\frac{\\partial^{2}}{\\partial t^{2}} v{\\left(t,x,y \\right)}$"
      ],
      "text/plain": [
       "Derivative(u(t, x, y), (x, 2)) + Derivative(u(t, x, y), (y, 2)) + Derivative(v(t, x, y), (t, 2))"
      ]
     },
     "execution_count": 36,
     "metadata": {},
     "output_type": "execute_result"
    }
   ],
   "source": [
    "v.dt2 + u.laplace"
   ]
  },
  {
   "cell_type": "code",
   "execution_count": 37,
   "metadata": {},
   "outputs": [
    {
     "data": {
      "text/latex": [
       "$\\displaystyle \\frac{\\partial^{2}}{\\partial x^{2}} \\left(\\frac{\\partial^{2}}{\\partial x^{2}} u{\\left(t,x,y \\right)} + \\frac{\\partial^{2}}{\\partial y^{2}} u{\\left(t,x,y \\right)} + \\frac{\\partial^{2}}{\\partial t^{2}} v{\\left(t,x,y \\right)}\\right)$"
      ],
      "text/plain": [
       "Derivative(Derivative(u(t, x, y), (x, 2)) + Derivative(u(t, x, y), (y, 2)) + Derivative(v(t, x, y), (t, 2)), (x, 2))"
      ]
     },
     "execution_count": 37,
     "metadata": {},
     "output_type": "execute_result"
    }
   ],
   "source": [
    "(v.dt2 + u.laplace).dx2"
   ]
  },
  {
   "cell_type": "markdown",
   "metadata": {},
   "source": [
    "Which can, depending on the chosen discretisation, lead to fairly complex stencils: "
   ]
  },
  {
   "cell_type": "code",
   "execution_count": 38,
   "metadata": {},
   "outputs": [
    {
     "data": {
      "text/latex": [
       "$\\displaystyle - \\frac{2.0 \\left(\\left(- \\frac{2.0 v{\\left(t,x,y \\right)}}{dt^{2}} + \\frac{v{\\left(t - dt,x,y \\right)}}{dt^{2}} + \\frac{v{\\left(t + dt,x,y \\right)}}{dt^{2}}\\right) + \\left(- \\frac{2.0 u{\\left(t,x,y \\right)}}{h_{x}^{2}} + \\frac{u{\\left(t,x - h_{x},y \\right)}}{h_{x}^{2}} + \\frac{u{\\left(t,x + h_{x},y \\right)}}{h_{x}^{2}}\\right) + \\left(- \\frac{2.0 u{\\left(t,x,y \\right)}}{h_{y}^{2}} + \\frac{u{\\left(t,x,y - h_{y} \\right)}}{h_{y}^{2}} + \\frac{u{\\left(t,x,y + h_{y} \\right)}}{h_{y}^{2}}\\right)\\right)}{h_{x}^{2}} + \\frac{\\left(- \\frac{2.0 v{\\left(t,x - h_{x},y \\right)}}{dt^{2}} + \\frac{v{\\left(t - dt,x - h_{x},y \\right)}}{dt^{2}} + \\frac{v{\\left(t + dt,x - h_{x},y \\right)}}{dt^{2}}\\right) + \\left(\\frac{u{\\left(t,x,y \\right)}}{h_{x}^{2}} + \\frac{u{\\left(t,x - 2 h_{x},y \\right)}}{h_{x}^{2}} - \\frac{2.0 u{\\left(t,x - h_{x},y \\right)}}{h_{x}^{2}}\\right) + \\left(- \\frac{2.0 u{\\left(t,x - h_{x},y \\right)}}{h_{y}^{2}} + \\frac{u{\\left(t,x - h_{x},y - h_{y} \\right)}}{h_{y}^{2}} + \\frac{u{\\left(t,x - h_{x},y + h_{y} \\right)}}{h_{y}^{2}}\\right)}{h_{x}^{2}} + \\frac{\\left(- \\frac{2.0 v{\\left(t,x + h_{x},y \\right)}}{dt^{2}} + \\frac{v{\\left(t - dt,x + h_{x},y \\right)}}{dt^{2}} + \\frac{v{\\left(t + dt,x + h_{x},y \\right)}}{dt^{2}}\\right) + \\left(\\frac{u{\\left(t,x,y \\right)}}{h_{x}^{2}} - \\frac{2.0 u{\\left(t,x + h_{x},y \\right)}}{h_{x}^{2}} + \\frac{u{\\left(t,x + 2 h_{x},y \\right)}}{h_{x}^{2}}\\right) + \\left(- \\frac{2.0 u{\\left(t,x + h_{x},y \\right)}}{h_{y}^{2}} + \\frac{u{\\left(t,x + h_{x},y - h_{y} \\right)}}{h_{y}^{2}} + \\frac{u{\\left(t,x + h_{x},y + h_{y} \\right)}}{h_{y}^{2}}\\right)}{h_{x}^{2}}$"
      ],
      "text/plain": [
       "-2.0*(-2.0*v(t, x, y)/dt**2 + v(t - dt, x, y)/dt**2 + v(t + dt, x, y)/dt**2 - 2.0*u(t, x, y)/h_x**2 + u(t, x - h_x, y)/h_x**2 + u(t, x + h_x, y)/h_x**2 - 2.0*u(t, x, y)/h_y**2 + u(t, x, y - h_y)/h_y**2 + u(t, x, y + h_y)/h_y**2)/h_x**2 + (-2.0*v(t, x - h_x, y)/dt**2 + v(t - dt, x - h_x, y)/dt**2 + v(t + dt, x - h_x, y)/dt**2 + u(t, x, y)/h_x**2 + u(t, x - 2*h_x, y)/h_x**2 - 2.0*u(t, x - h_x, y)/h_x**2 - 2.0*u(t, x - h_x, y)/h_y**2 + u(t, x - h_x, y - h_y)/h_y**2 + u(t, x - h_x, y + h_y)/h_y**2)/h_x**2 + (-2.0*v(t, x + h_x, y)/dt**2 + v(t - dt, x + h_x, y)/dt**2 + v(t + dt, x + h_x, y)/dt**2 + u(t, x, y)/h_x**2 - 2.0*u(t, x + h_x, y)/h_x**2 + u(t, x + 2*h_x, y)/h_x**2 - 2.0*u(t, x + h_x, y)/h_y**2 + u(t, x + h_x, y - h_y)/h_y**2 + u(t, x + h_x, y + h_y)/h_y**2)/h_x**2"
      ]
     },
     "execution_count": 38,
     "metadata": {},
     "output_type": "execute_result"
    }
   ],
   "source": [
    "(v.dt2 + u.laplace).dx2.evaluate"
   ]
  }
 ],
 "metadata": {
  "kernelspec": {
   "display_name": "Python 3",
   "language": "python",
   "name": "python3"
  },
  "language_info": {
   "codemirror_mode": {
    "name": "ipython",
    "version": 3
   },
   "file_extension": ".py",
   "mimetype": "text/x-python",
   "name": "python",
   "nbconvert_exporter": "python",
   "pygments_lexer": "ipython3",
   "version": "3.8.12"
  },
  "widgets": {
   "state": {},
   "version": "1.1.2"
  }
 },
 "nbformat": 4,
 "nbformat_minor": 2
}
